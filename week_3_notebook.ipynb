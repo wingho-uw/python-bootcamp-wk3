{
 "cells": [
  {
   "cell_type": "markdown",
   "id": "f4b711a7-1a15-484e-b950-a099a0807421",
   "metadata": {},
   "source": [
    "Oceanography python bootcamp, Winter 2025\n",
    "# Week 3 notebook"
   ]
  },
  {
   "cell_type": "code",
   "execution_count": null,
   "id": "cf665e48-ddd2-4633-846c-141779dbd86a",
   "metadata": {},
   "outputs": [],
   "source": [
    "import numpy as np\n",
    "import matplotlib.pyplot as plt\n",
    "import matplotlib as mpl"
   ]
  },
  {
   "cell_type": "code",
   "execution_count": null,
   "id": "dc86c267-419a-4f17-ba2a-f58009c1b6e8",
   "metadata": {},
   "outputs": [],
   "source": [
    "import week3_magic as magic"
   ]
  },
  {
   "cell_type": "markdown",
   "id": "631688bb-6ddf-4c60-8389-7e0bf810ccda",
   "metadata": {},
   "source": [
    "## Numpy array"
   ]
  },
  {
   "cell_type": "markdown",
   "id": "ee50c37c-b23d-417e-8667-db8d0cf3b9d9",
   "metadata": {},
   "source": [
    "### Specifying data type"
   ]
  },
  {
   "cell_type": "code",
   "execution_count": null,
   "id": "9c86cf0b-8528-4c4c-b3cf-c87244b2fc39",
   "metadata": {},
   "outputs": [],
   "source": [
    "# numpy guessed that you want an integer array\n",
    "X = np.array([1,2,3])\n",
    "X.dtype"
   ]
  },
  {
   "cell_type": "code",
   "execution_count": null,
   "id": "94daf5e5-32ea-4c0d-b361-9f11328395c8",
   "metadata": {},
   "outputs": [],
   "source": [
    "# explicitly create a floating-point array\n",
    "Y = np.array([1,2,3], dtype=float)\n",
    "Y.dtype"
   ]
  },
  {
   "cell_type": "markdown",
   "id": "260f4e1b-fa70-4291-894a-c69673a47d6c",
   "metadata": {},
   "source": [
    "### Basic and advanced indexing"
   ]
  },
  {
   "cell_type": "code",
   "execution_count": null,
   "id": "1136c0d3-fe4f-4a4e-b857-036afcaf9070",
   "metadata": {},
   "outputs": [],
   "source": [
    "x = np.array(list(range(1,20,2)))"
   ]
  },
  {
   "cell_type": "code",
   "execution_count": null,
   "id": "7a1d9f79-91bc-4fc9-a4cb-2b7803508163",
   "metadata": {},
   "outputs": [],
   "source": [
    "# Basic indexing using start:stop:step\n",
    "y = x[1::5]\n",
    "print(y)"
   ]
  },
  {
   "cell_type": "code",
   "execution_count": null,
   "id": "2ebc262a-8220-4d53-b259-f5fe228e671f",
   "metadata": {},
   "outputs": [],
   "source": [
    "# assign using slice\n",
    "\n",
    "x[1::5] = [-1, -2]\n",
    "print(x)"
   ]
  },
  {
   "cell_type": "code",
   "execution_count": null,
   "id": "0828151e-55ef-478c-a02d-1ed2a8edc6a2",
   "metadata": {},
   "outputs": [],
   "source": [
    "x = np.array(list(range(1,20,2)))"
   ]
  },
  {
   "cell_type": "code",
   "execution_count": null,
   "id": "92b156e2-feb5-468f-ae7c-6552e1e0a507",
   "metadata": {},
   "outputs": [],
   "source": [
    "# advanced indexing by boolean\n",
    "x[x % 5 == 3]"
   ]
  },
  {
   "cell_type": "code",
   "execution_count": null,
   "id": "2df8cdb6-3f3d-4998-a2ae-60d1491bac90",
   "metadata": {},
   "outputs": [],
   "source": [
    "# NOTE that x % 5 == 1 is a boolean array\n",
    "x % 5 == 1"
   ]
  },
  {
   "cell_type": "code",
   "execution_count": null,
   "id": "85de3913-a04a-4e5d-96be-6b02b08a3bd8",
   "metadata": {},
   "outputs": [],
   "source": [
    "# advanced indexing using an integer array\n",
    "x[[2, 5, 2]]"
   ]
  },
  {
   "cell_type": "code",
   "execution_count": null,
   "id": "fd7bdca2-fb9d-427c-91a1-83d913a7b982",
   "metadata": {},
   "outputs": [],
   "source": [
    "# warning: memory sharing between original and sliced array\n",
    "\n",
    "x = np.array(list(range(1, 20, 2)))\n",
    "y = x[::3]\n",
    "y[2:4] = [-10, -20]\n",
    "\n",
    "print(x)"
   ]
  },
  {
   "cell_type": "code",
   "execution_count": null,
   "id": "2a1cc135-4717-4b45-8e28-0652378f7015",
   "metadata": {},
   "outputs": [],
   "source": [
    "# check potential memory sharing\n",
    "np.may_share_memory(x, y)"
   ]
  },
  {
   "cell_type": "code",
   "execution_count": null,
   "id": "afd1633e-6a70-4a6a-bf14-b547dd457db2",
   "metadata": {},
   "outputs": [],
   "source": [
    "# avoid shared memory by copying\n",
    "z = y.copy()\n",
    "np.may_share_memory(x, z)"
   ]
  },
  {
   "cell_type": "code",
   "execution_count": null,
   "id": "1985f4d5-c220-4ad7-8378-cada0aba5708",
   "metadata": {},
   "outputs": [],
   "source": [
    "# in contrast, advanced indexing creates copy\n",
    "\n",
    "x = np.array(list(range(1, 20, 2)))\n",
    "y = x[[0, 3, 6, 9]]\n",
    "y[2:4] = [-10, -20]\n",
    "\n",
    "print(x)"
   ]
  },
  {
   "cell_type": "code",
   "execution_count": null,
   "id": "06aba9b0-14a7-4427-8279-a7e56114ef1a",
   "metadata": {},
   "outputs": [],
   "source": [
    "x = np.array([1, 4, 9, 16, 25, 36])\n",
    "y = x[x % 4 == 0]\n",
    "\n",
    "y[:2] = 5\n",
    "\n",
    "x[x % 4 == 0] = [-1, -4, -9]\n",
    "x = x[:3]\n",
    "\n",
    "print(x, y)"
   ]
  },
  {
   "cell_type": "markdown",
   "id": "3c0c3ecb-8753-4b29-99b4-21a8eae552d7",
   "metadata": {},
   "source": [
    "### Numpy creation functions"
   ]
  },
  {
   "cell_type": "code",
   "execution_count": null,
   "id": "ce6c4e51-7d27-4d42-baae-9c1b733e1c88",
   "metadata": {},
   "outputs": [],
   "source": [
    "np.linspace(1, 10, 10)"
   ]
  },
  {
   "cell_type": "code",
   "execution_count": null,
   "id": "b38c888f-cca7-41f4-bbb3-bd9d0cc3538f",
   "metadata": {},
   "outputs": [],
   "source": [
    "np.geomspace(1, 10, 5)"
   ]
  },
  {
   "cell_type": "code",
   "execution_count": null,
   "id": "f303f11c-fb89-45ea-a3a8-279bb2863ea9",
   "metadata": {},
   "outputs": [],
   "source": [
    "np.arange(1, 5, 0.5)"
   ]
  },
  {
   "cell_type": "code",
   "execution_count": null,
   "id": "ed598f65-2b58-4ed7-bbd1-d4468a59f2ce",
   "metadata": {},
   "outputs": [],
   "source": [
    "np.zeros(5)"
   ]
  },
  {
   "cell_type": "code",
   "execution_count": null,
   "id": "8b2e1e58-7fb2-44b1-9aa6-a51a8da985a7",
   "metadata": {},
   "outputs": [],
   "source": [
    "np.full(5, 10)"
   ]
  },
  {
   "cell_type": "code",
   "execution_count": null,
   "id": "3ab68769-33e0-402d-a79b-eb0e7609e22d",
   "metadata": {},
   "outputs": [],
   "source": [
    "np.concatenate([np.arange(5), np.full(3, 5)])"
   ]
  },
  {
   "cell_type": "markdown",
   "id": "7ea0cd15-5438-4336-9504-7c9df92c3bef",
   "metadata": {},
   "source": [
    "### Numpy arithmetics"
   ]
  },
  {
   "cell_type": "code",
   "execution_count": null,
   "id": "2c7defb8-d6b0-4636-afd5-bb91a02d2af5",
   "metadata": {},
   "outputs": [],
   "source": [
    "# between an array and a scalar\n",
    "np.arange(5) * 5"
   ]
  },
  {
   "cell_type": "code",
   "execution_count": null,
   "id": "5bb4c6c8-1fd6-49e5-b4e2-e9d1cc2fc8ac",
   "metadata": {},
   "outputs": [],
   "source": [
    "# between two numpy array\n",
    "np.arange(5) + np.geomspace(1, 100, 5)"
   ]
  },
  {
   "cell_type": "code",
   "execution_count": null,
   "id": "23ade440-4bf4-46bd-aab9-a401253402ab",
   "metadata": {},
   "outputs": [],
   "source": [
    "# logical operation\n",
    "\n",
    "x = np.arange(-5, 5)\n",
    "np.logical_and(x > 0, x % 2==0)"
   ]
  },
  {
   "cell_type": "code",
   "execution_count": null,
   "id": "8a279bc4-778a-47b6-afab-db374318253d",
   "metadata": {},
   "outputs": [],
   "source": [
    "# alternative form for logical operation\n",
    "# Note that you needs the brackets to override default precedence\n",
    "(x > 0) & (x % 2==0)"
   ]
  },
  {
   "cell_type": "markdown",
   "id": "7cc873ee-40f0-4259-964b-925f3f8f9f84",
   "metadata": {},
   "source": [
    "### numpy mapping"
   ]
  },
  {
   "cell_type": "code",
   "execution_count": null,
   "id": "c9dc43bb-b501-4c08-9efe-357f125d9b60",
   "metadata": {},
   "outputs": [],
   "source": [
    "# exponential\n",
    "np.exp(np.arange(5))"
   ]
  },
  {
   "cell_type": "code",
   "execution_count": null,
   "id": "03c54634-550b-4b77-9902-a7ec58a7e91d",
   "metadata": {},
   "outputs": [],
   "source": [
    "# algorithm\n",
    "np.log(np.geomspace(1, 10, 5))"
   ]
  },
  {
   "cell_type": "code",
   "execution_count": null,
   "id": "e40c2cb1-9240-40cb-af49-dfbf285fb8ab",
   "metadata": {},
   "outputs": [],
   "source": [
    "# trigonometric\n",
    "np.sin(np.pi * np.arange(0, 2.05, 0.25))"
   ]
  },
  {
   "cell_type": "code",
   "execution_count": null,
   "id": "dbcfe89b-3e62-4ee6-abdc-67951d1e137e",
   "metadata": {},
   "outputs": [],
   "source": [
    "# rounding\n",
    "np.round(np.e * np.arange(10), 2)"
   ]
  },
  {
   "cell_type": "markdown",
   "id": "ab1129f2-5e32-4c85-8234-a88a918da361",
   "metadata": {},
   "source": [
    "### numpy reduction"
   ]
  },
  {
   "cell_type": "code",
   "execution_count": null,
   "id": "38e6950d-1f9f-41b4-833c-476cc0111be8",
   "metadata": {},
   "outputs": [],
   "source": [
    "# maximum\n",
    "x = np.array([1, 3, 4, 0, -6, -8])\n",
    "\n",
    "print(np.max(x), np.argmax(x))"
   ]
  },
  {
   "cell_type": "code",
   "execution_count": null,
   "id": "9f80fe7b-090b-4f7c-9db5-6285a600a25c",
   "metadata": {},
   "outputs": [],
   "source": [
    "# mean\n",
    "x = np.array([2, 6, 4, 3])\n",
    "np.mean(x)"
   ]
  },
  {
   "cell_type": "markdown",
   "id": "8f92dfff-855e-4608-9b51-641c0de2fb37",
   "metadata": {},
   "source": [
    "### numpy miscellaneous"
   ]
  },
  {
   "cell_type": "code",
   "execution_count": null,
   "id": "23feb980-e08e-4193-a78a-943183d61d15",
   "metadata": {},
   "outputs": [],
   "source": [
    "# sorting\n",
    "x = np.array([1, -1, 2, -2, 3, -3])\n",
    "np.sort(x)"
   ]
  },
  {
   "cell_type": "code",
   "execution_count": null,
   "id": "095b5d0b-4fed-4d07-9140-82ea3ede16a7",
   "metadata": {},
   "outputs": [],
   "source": [
    "# index in the original array of the sorted value\n",
    "np.argsort(x)"
   ]
  },
  {
   "cell_type": "code",
   "execution_count": null,
   "id": "6d571fbf-654d-4a0a-8939-63d37916a564",
   "metadata": {},
   "outputs": [],
   "source": [
    "# one-argument form of np.where\n",
    "np.where(x > 0)"
   ]
  },
  {
   "cell_type": "code",
   "execution_count": null,
   "id": "44c71ee1-67e7-4cd3-a8aa-9fcac9ac3210",
   "metadata": {},
   "outputs": [],
   "source": [
    "# three-arguments form of np.where\n",
    "np.where(x > 0, 1, -1)"
   ]
  },
  {
   "cell_type": "markdown",
   "id": "585f3eae-c75c-43fd-bafc-484de9d1382c",
   "metadata": {},
   "source": [
    "----\n",
    "\n",
    "_**Code writing #2.**_ numpy functions\n",
    "\n",
    "1. Use numpy to calculate the arithmetic mean of the geometric sequence [1, 2, …, 2<sup>10</sup>]\n",
    "1. Use numpy to find the maximum of sin(n), where n = 1, …, 20. Find also the value of n where the maximum is attained\n",
    "1. Use numpy to find the values of n for which cos(n) is positive, where n = 1, …, 20\n"
   ]
  },
  {
   "cell_type": "code",
   "execution_count": null,
   "id": "b95efad9-b294-46f7-94a7-0a890c9d5e63",
   "metadata": {},
   "outputs": [],
   "source": [
    "# part 1"
   ]
  },
  {
   "cell_type": "code",
   "execution_count": null,
   "id": "ddfe1341-b85a-4a6f-89e5-6481236e6314",
   "metadata": {},
   "outputs": [],
   "source": [
    "# part 2"
   ]
  },
  {
   "cell_type": "code",
   "execution_count": null,
   "id": "688fd8ee-e1fc-47fb-ae48-df8715ea0b3d",
   "metadata": {},
   "outputs": [],
   "source": [
    "# part 3"
   ]
  },
  {
   "cell_type": "markdown",
   "id": "8c6f7758-59dc-47b0-b497-cdf40cd124eb",
   "metadata": {},
   "source": [
    "## Matplotlib basics"
   ]
  },
  {
   "cell_type": "markdown",
   "id": "7091753a-9a3b-48bf-9caa-6bfbb7b84fc8",
   "metadata": {},
   "source": [
    "### Simple matplotlib plot"
   ]
  },
  {
   "cell_type": "code",
   "execution_count": null,
   "id": "36dbb792-11fc-43e0-bcc5-19f6ba891b62",
   "metadata": {},
   "outputs": [],
   "source": [
    "# set data\n",
    "\n",
    "x = np.linspace(0, 1, 100)\n",
    "y = np.sqrt(x)"
   ]
  },
  {
   "cell_type": "code",
   "execution_count": null,
   "id": "300b0326-5bdc-4fb4-8723-a84739b40225",
   "metadata": {},
   "outputs": [],
   "source": [
    "# a very simple plot\n",
    "\n",
    "fig = plt.figure()\n",
    "ax = fig.add_subplot()\n",
    "\n",
    "ax.plot(x, y)\n",
    "\n",
    "plt.show(fig)"
   ]
  },
  {
   "cell_type": "code",
   "execution_count": null,
   "id": "aba914dc-5964-4881-846c-1865ed153a9b",
   "metadata": {},
   "outputs": [],
   "source": [
    "# use the alternative global interface\n",
    "plt.plot(x, y)\n",
    "plt.show()"
   ]
  },
  {
   "cell_type": "markdown",
   "id": "25f9bf00-ce19-48d0-a979-ae124122df88",
   "metadata": {},
   "source": [
    "### Adding plot elements"
   ]
  },
  {
   "cell_type": "code",
   "execution_count": null,
   "id": "34b4e08a-66f8-49ea-b4ae-1a941da04ef8",
   "metadata": {},
   "outputs": [],
   "source": [
    "# set title, as well as x, and y labels\n",
    "# change font size of title, labels, and ticks\n",
    "\n",
    "fig = plt.figure(figsize=(8, 4))\n",
    "ax = fig.add_subplot()\n",
    "\n",
    "#### << START NEW CONTENT ####\n",
    "ax.set_title(\"The square root function\", loc=\"left\", fontsize=20)\n",
    "ax.set_xlabel(\"x\", fontsize=16)\n",
    "ax.set_ylabel(\"y = $\\\\sqrt{x}$\", fontsize=16)\n",
    "\n",
    "ax.set_xticks(0.1 * np.arange(0, 11), minor=True)\n",
    "ax.set_yticks(0.1 * np.arange(0, 11), minor=True)\n",
    "ax.tick_params(\"both\", labelsize=14)\n",
    "#### >> END NEW CONTENT ####\n",
    "\n",
    "ax.plot(x, y)\n",
    "\n",
    "plt.show(fig)"
   ]
  },
  {
   "cell_type": "code",
   "execution_count": null,
   "id": "6cc720a9-27c9-46b8-887e-49dc1306216d",
   "metadata": {},
   "outputs": [],
   "source": [
    "# add grid\n",
    "\n",
    "fig = plt.figure()\n",
    "ax = fig.add_subplot()\n",
    "\n",
    "ax.set_title(\"The square root function\", loc=\"left\", fontsize=20)\n",
    "ax.set_xlabel(\"x\", fontsize=16)\n",
    "ax.set_ylabel(\"y = $\\\\sqrt{x}$\", fontsize=16)\n",
    "\n",
    "ax.set_xticks(0.1 * np.arange(0, 11), minor=True)\n",
    "ax.set_yticks(0.1 * np.arange(0, 11), minor=True)\n",
    "ax.tick_params(\"both\", labelsize=14)\n",
    "\n",
    "#### << START NEW CONTENT ####\n",
    "plt.grid(which=\"major\", axis=\"both\")\n",
    "plt.grid(which=\"minor\", axis=\"both\", ls=\":\")\n",
    "#### >> END NEW CONTENT ####\n",
    "\n",
    "ax.plot(x, y)\n",
    "\n",
    "plt.show(fig)"
   ]
  },
  {
   "cell_type": "code",
   "execution_count": null,
   "id": "4a4f68d8-81df-4b8e-9846-1e5866341fdc",
   "metadata": {},
   "outputs": [],
   "source": [
    "# change figure size\n",
    "\n",
    "fig = plt.figure(figsize=(8,4)) #### NEW CONTENT THIS LINE ####\n",
    "ax = fig.add_subplot()\n",
    "\n",
    "ax.set_title(\"The square root function\", loc=\"left\", fontsize=20)\n",
    "ax.set_xlabel(\"x\", fontsize=16)\n",
    "ax.set_ylabel(\"y = $\\\\sqrt{x}$\", fontsize=16)\n",
    "\n",
    "ax.set_xticks(0.1 * np.arange(0, 11), minor=True)\n",
    "ax.set_yticks(0.1 * np.arange(0, 11), minor=True)\n",
    "ax.tick_params(\"both\", labelsize=14)\n",
    "\n",
    "plt.grid(which=\"major\", axis=\"both\")\n",
    "plt.grid(which=\"minor\", axis=\"both\", ls=\":\")\n",
    "\n",
    "ax.plot(x, y)\n",
    "\n",
    "plt.show(fig)"
   ]
  },
  {
   "cell_type": "code",
   "execution_count": null,
   "id": "b545ec18-c559-46cc-96ce-2e6126f7181a",
   "metadata": {},
   "outputs": [],
   "source": [
    "# change figure size\n",
    "\n",
    "fig = plt.figure()\n",
    "ax = fig.add_subplot()\n",
    "\n",
    "ax.set_title(\"The square root function\", loc=\"left\", fontsize=20)\n",
    "ax.set_xlabel(\"x\", fontsize=16)\n",
    "ax.set_ylabel(\"y = $\\\\sqrt{x}$\", fontsize=16)\n",
    "\n",
    "ax.set_xticks(0.1 * np.arange(0, 11), minor=True)\n",
    "ax.set_yticks(0.1 * np.arange(0, 11), minor=True)\n",
    "ax.tick_params(\"both\", labelsize=14)\n",
    "\n",
    "#### << START NEW CONTENT ####\n",
    "ax.set_aspect(\"equal\")\n",
    "#### >> END NEW CONTENT ####\n",
    "\n",
    "plt.grid(which=\"major\", axis=\"both\")\n",
    "plt.grid(which=\"minor\", axis=\"both\", ls=\":\")\n",
    "\n",
    "ax.plot(x, y)\n",
    "\n",
    "plt.show(fig)"
   ]
  },
  {
   "cell_type": "code",
   "execution_count": null,
   "id": "ecfe845f-837c-405e-bd5c-b8541ba278e2",
   "metadata": {},
   "outputs": [],
   "source": [
    "# setting axes limits\n",
    "\n",
    "fig = plt.figure()\n",
    "ax = fig.add_subplot()\n",
    "\n",
    "ax.set_title(\"The square root function\", loc=\"left\", fontsize=20)\n",
    "ax.set_xlabel(\"x\", fontsize=16)\n",
    "ax.set_ylabel(\"y = $\\\\sqrt{x}$\", fontsize=16)\n",
    "\n",
    "#### << START NEW CONTENT ####\n",
    "ax.set_xlim(0, 1)\n",
    "ax.set_ylim(0, 1)\n",
    "#### >> END NEW CONTENT ####\n",
    "\n",
    "ax.set_xticks(0.1 * np.arange(0, 11), minor=True)\n",
    "ax.set_yticks(0.1 * np.arange(0, 11), minor=True)\n",
    "ax.tick_params(\"both\", labelsize=14)\n",
    "\n",
    "ax.set_aspect(\"equal\")\n",
    "\n",
    "plt.grid(which=\"major\", axis=\"both\")\n",
    "plt.grid(which=\"minor\", axis=\"both\", ls=\":\")\n",
    "\n",
    "ax.plot(x, y)\n",
    "\n",
    "plt.show(fig)"
   ]
  },
  {
   "cell_type": "code",
   "execution_count": null,
   "id": "460606e8-5126-44ae-a950-4ad4d644a957",
   "metadata": {},
   "outputs": [],
   "source": [
    "# plot and x and y axes in log-log scale\n",
    "\n",
    "fig = plt.figure()\n",
    "ax = fig.add_subplot()\n",
    "\n",
    "#### << START NEW CONTENT ####\n",
    "ax.set_xscale(\"log\")\n",
    "ax.set_yscale(\"log\")\n",
    "#### >> END NEW CONTENT ####\n",
    "\n",
    "ax.set_title(\"The square root function\", loc=\"left\", fontsize=20)\n",
    "ax.set_xlabel(\"log$_{10}$(x)\", fontsize=16)\n",
    "ax.set_ylabel(\"log$_{10}$(y)\", fontsize=16)\n",
    "\n",
    "ax.set_xticks(0.1 * np.arange(0, 11), minor=True)\n",
    "ax.set_yticks(0.1 * np.arange(0, 11), minor=True)\n",
    "ax.tick_params(\"both\", labelsize=14)\n",
    "\n",
    "plt.grid(which=\"major\", axis=\"both\")\n",
    "plt.grid(which=\"minor\", axis=\"both\", ls=\":\")\n",
    "\n",
    "ax.plot(x[1:], y[1:])\n",
    "\n",
    "plt.show(fig)"
   ]
  },
  {
   "cell_type": "code",
   "execution_count": null,
   "id": "38686145-ebdb-49e6-8ad6-afb253cce829",
   "metadata": {},
   "outputs": [],
   "source": [
    "# subscript and superscript\n",
    "\n",
    "fig = plt.figure(figsize=(10, 1))\n",
    "ax = fig.add_subplot()\n",
    "\n",
    "ax.set_title('Text $^{superscript}_\\\\mathregular{subscript}$ using \\\\$', fontsize=20)\n",
    "ax.set_xlabel(\"proportion CO$_2$\", fontsize=16)\n",
    "\n",
    "plt.show()"
   ]
  },
  {
   "cell_type": "markdown",
   "id": "c152a38b-a900-4725-9055-1f0aa7828014",
   "metadata": {},
   "source": [
    "----\n",
    "\n",
    "_**Code writing #3**_: Try your best to reproduce the plot below\n",
    "\n",
    "![plot of sinusoidal function](https://github.com/wingho-uw/python-bootcamp-wk3/blob/main/img/sin_plot.svg?raw=true)"
   ]
  },
  {
   "cell_type": "markdown",
   "id": "5580ac37-ea1d-4268-8202-d14c0d4410d1",
   "metadata": {},
   "source": [
    "### Figure export"
   ]
  },
  {
   "cell_type": "code",
   "execution_count": null,
   "id": "8ca2acd0-f045-48bd-bee4-fa0c7e25d09e",
   "metadata": {},
   "outputs": [],
   "source": [
    "# make sure svg export retains text\n",
    "\n",
    "plt.rcParams['svg.fonttype'] = 'none'"
   ]
  },
  {
   "cell_type": "code",
   "execution_count": null,
   "id": "3c7f936e-ba87-4790-90ef-0eaed8292ef9",
   "metadata": {},
   "outputs": [],
   "source": [
    "# set data\n",
    "\n",
    "x = np.linspace(0, 1, 100)\n",
    "y = np.sqrt(x)"
   ]
  },
  {
   "cell_type": "code",
   "execution_count": null,
   "id": "f101a8ac-0b32-430e-84ae-16146ef1ccb9",
   "metadata": {},
   "outputs": [],
   "source": [
    "# Export the square root plot\n",
    "\n",
    "fig = plt.figure()\n",
    "ax = fig.add_subplot()\n",
    "\n",
    "ax.set_title(\"The square root function\", loc=\"left\", fontsize=20)\n",
    "ax.set_xlabel(\"x\", fontsize=16)\n",
    "ax.set_ylabel(\"y = $\\\\sqrt{x}$\", fontsize=16)\n",
    "\n",
    "ax.set_xlim(0, 1)\n",
    "ax.set_ylim(0, 1)\n",
    "\n",
    "ax.set_xticks(0.1 * np.arange(0, 11), minor=True)\n",
    "ax.set_yticks(0.1 * np.arange(0, 11), minor=True)\n",
    "ax.tick_params(\"both\", labelsize=14)\n",
    "\n",
    "ax.set_aspect(\"equal\")\n",
    "\n",
    "plt.grid(which=\"major\", axis=\"both\")\n",
    "plt.grid(which=\"minor\", axis=\"both\", ls=\":\")\n",
    "\n",
    "ax.plot(x, y)\n",
    "\n",
    "#### << START NEW CONTENT ####\n",
    "fig.savefig(\"square_root.svg\", dpi=300)\n",
    "#### >> END NEW CONTENT ####\n",
    "\n",
    "plt.show(fig)"
   ]
  },
  {
   "cell_type": "markdown",
   "id": "4d41f6a0-6a78-4b11-80e2-f934819dd92c",
   "metadata": {},
   "source": [
    "### Plot types"
   ]
  },
  {
   "cell_type": "code",
   "execution_count": null,
   "id": "81c6881b-3098-41e9-a553-a8cdaaadcd6e",
   "metadata": {},
   "outputs": [],
   "source": [
    "# line plot with markers\n",
    "\n",
    "x_data = np.linspace(0, 2, 11)\n",
    "y_data = np.sqrt(x_data)\n",
    "\n",
    "fig = plt.figure()\n",
    "ax = fig.add_subplot()\n",
    "\n",
    "ax.plot(x_data, y_data, c=\"olive\", marker=\"s\", lw=2, ls=\"--\")\n",
    "\n",
    "plt.show(fig)"
   ]
  },
  {
   "cell_type": "code",
   "execution_count": null,
   "id": "a19e914b-00ce-40a2-bc99-4e29e21176c2",
   "metadata": {},
   "outputs": [],
   "source": [
    "# scatter plot\n",
    "\n",
    "x_data = magic.normal_2a.copy()\n",
    "y_data = magic.normal_1a.copy()\n",
    "\n",
    "fig = plt.figure()\n",
    "ax = fig.add_subplot()\n",
    "\n",
    "ax.scatter(x_data, y_data, s=10, c=\"green\", marker=\"x\")\n",
    "\n",
    "plt.show(fig)"
   ]
  },
  {
   "cell_type": "code",
   "execution_count": null,
   "id": "d51fca44-cbe0-455b-82fc-9c70fbeae649",
   "metadata": {},
   "outputs": [],
   "source": [
    "# error bar plot\n",
    "\n",
    "x_data = np.arange(0, 5.1, 0.5)\n",
    "y_data = np.sqrt(x_data)\n",
    "y_err = np.array([\n",
    "    [0.4, 0.3, 0.3, 0.2, 0.4, 0.4, 0.3, 0.2, 0.2, 0.3, 0.3], # lower\n",
    "    [0.1, 0.2, 0.2, 0.1, 0.2, 0.2, 0.1, 0.1, 0.2, 0.2, 0.2] \n",
    "])\n",
    "x_err = 0.1\n",
    "\n",
    "fig = plt.figure()\n",
    "ax = fig.add_subplot()\n",
    "\n",
    "plt.errorbar(\n",
    "    x_data, y_data, yerr = y_err, xerr = x_err, \n",
    "    color=\"blue\", marker=\"o\", lw=1, ls=\"--\", \n",
    "    ecolor=\"black\", elinewidth=2, capsize=5.0\n",
    ")\n",
    "\n",
    "plt.show(fig)"
   ]
  },
  {
   "cell_type": "code",
   "execution_count": null,
   "id": "f2f963ae-09a0-4e45-9e57-1325abd55e65",
   "metadata": {},
   "outputs": [],
   "source": [
    "# fill-between plot\n",
    "\n",
    "x_data = np.linspace(0, 10, 101)\n",
    "y_data = 3 + 0.5 * x_data\n",
    "\n",
    "y_err = 0.3 + 0.02 * (x_data - 5)**2\n",
    "\n",
    "fig = plt.figure()\n",
    "ax = fig.add_subplot()\n",
    "\n",
    "ax.fill_between(x_data, y_data - y_err, y_data + y_err, \n",
    "                color=\"blue\", edgecolor=\"red\", ls=\"--\", lw=2, alpha=0.2)\n",
    "\n",
    "plt.show(fig)"
   ]
  },
  {
   "cell_type": "code",
   "execution_count": null,
   "id": "d4d9453f-1249-4fc8-b548-dbb4830374b3",
   "metadata": {},
   "outputs": [],
   "source": [
    "# bar plot with error bars\n",
    "# different color for each bar\n",
    "\n",
    "x_data = np.arange(0, 5)\n",
    "y_data = np.array([6, 5, 9, 4, 7])\n",
    "\n",
    "y_err = np.array([0.7, 0.4, 0.3, 0.5, 0.2])\n",
    "\n",
    "fig = plt.figure()\n",
    "ax = fig.add_subplot()\n",
    "\n",
    "ax.bar(\n",
    "    x_data, y_data, align=\"center\", width=0.8,\n",
    "    tick_label = [\"apple\", \"banana\", \"lemon\", \"grape\", \"orange\"],\n",
    "    color=[\"tab:blue\", \"tab:orange\", \"tab:green\", \"tab:red\", \"tab:purple\"],\n",
    "    yerr = y_err, ecolor=\"black\", capsize=5\n",
    ")\n",
    "\n",
    "plt.show(fig)"
   ]
  },
  {
   "cell_type": "markdown",
   "id": "dfdfd71b-3902-4311-bf3e-33559ae83d46",
   "metadata": {},
   "source": [
    "### Multiple data series; plot annotations"
   ]
  },
  {
   "cell_type": "code",
   "execution_count": null,
   "id": "eb6dd373-7fd5-4d90-af2e-b0de0ac36f14",
   "metadata": {},
   "outputs": [],
   "source": [
    "# multiple data series\n",
    "\n",
    "x_fit = np.array(np.arange(0, 11))\n",
    "y_fit = 2.0 + 0.8 * x_fit\n",
    "\n",
    "x_samples = magic.uniform_10.copy()\n",
    "y_samples = magic.linear.copy()\n",
    "\n",
    "fig = plt.figure()\n",
    "ax = fig.add_subplot()\n",
    "\n",
    "ax.set_ylim(0, 11)\n",
    "\n",
    "ax.plot(x_fit, y_fit, ls=\"--\", c=\"blue\", label=\"best fit\")\n",
    "ax.scatter(x_samples, y_samples, marker=\"x\", c=\"orange\", label=\"data\")\n",
    "\n",
    "ax.legend(loc=2)\n",
    "\n",
    "plt.show(fig)"
   ]
  },
  {
   "cell_type": "code",
   "execution_count": null,
   "id": "038a7b29-0e24-4793-a918-a6000f5f387f",
   "metadata": {},
   "outputs": [],
   "source": [
    "# Plot annotations: lines\n",
    "\n",
    "xdata = magic.normal_2a.copy()\n",
    "ydata = magic.normal_1a.copy()\n",
    "\n",
    "fig = plt.figure()\n",
    "ax = fig.add_subplot()\n",
    "\n",
    "ax.set_aspect(1)\n",
    "ax.set_xlim(-6, 6)\n",
    "ax.set_ylim(-3, 3)\n",
    "\n",
    "ax.axhline(color=\"gray\", ls=\"-.\")\n",
    "ax.axvline(2, color=\"gray\", ls=\":\")\n",
    "ax.axline((-4, -2), (-2, 1), color=\"purple\", lw=1)\n",
    "\n",
    "ax.hlines(-1, -4, 0, color=\"red\", lw=3)\n",
    "\n",
    "ax.scatter(xdata, ydata)\n",
    "\n",
    "plt.show(fig)"
   ]
  },
  {
   "cell_type": "code",
   "execution_count": null,
   "id": "6ea4eb88-bf4f-4bed-ab10-ac6639ce5be3",
   "metadata": {},
   "outputs": [],
   "source": [
    "# Plot anootations: shades\n",
    "\n",
    "fig = plt.figure()\n",
    "ax = fig.add_subplot()\n",
    "\n",
    "ax.set_aspect(1)\n",
    "ax.set_xlim(-6, 6)\n",
    "ax.set_ylim(-3, 3)\n",
    "\n",
    "ax.axhspan(0, 1, color=\"yellow\", edgecolor=None, alpha=0.5)\n",
    "ax.axvspan(-2, -1, color=\"palegreen\", edgecolor=None, alpha=0.5)\n",
    "\n",
    "ax.scatter(xdata, ydata)\n",
    "\n",
    "plt.show(fig)"
   ]
  },
  {
   "cell_type": "code",
   "execution_count": null,
   "id": "90ee094c-4269-4cec-92bd-098ab0d9dd94",
   "metadata": {},
   "outputs": [],
   "source": [
    "# Plot annotations: text and arrow\n",
    "x1_data = np.linspace(0, 2, 101)\n",
    "y1_data = np.sqrt(x1_data)\n",
    "\n",
    "fig = plt.figure()\n",
    "ax = fig.add_subplot()\n",
    "\n",
    "ax.scatter(1, 1, c=\"k\")\n",
    "\n",
    "# supported math fonts are 'dejavusans', 'dejavuserif', \n",
    "# 'cm', 'stix', 'stixsans'\"\n",
    "ax.text(\n",
    "    1, 0.2, \"$f(x) = \\\\sqrt{x}$\", fontsize=16,\n",
    ")\n",
    "\n",
    "# for arrow style, see documentation on FancyArrowPatch\n",
    "ax.annotate(\n",
    "    \"(1.0, 1.0)\", xy=(1,1), xytext=(1.25, 0.8),\n",
    "    arrowprops={\"arrowstyle\": \"->\", \"connectionstyle\": \"Angle3\"},\n",
    "    fontsize=14\n",
    ")\n",
    "\n",
    "ax.plot(x1_data, y1_data)\n",
    "plt.show()"
   ]
  },
  {
   "cell_type": "code",
   "execution_count": null,
   "id": "038813c1-971f-4744-b3dc-676c35c08bbc",
   "metadata": {},
   "outputs": [],
   "source": [
    "# two different y scales on the same plot\n",
    "\n",
    "x1_data = np.linspace(0, 10, 101)\n",
    "\n",
    "y1_data = x1_data**2 * np.exp(x1_data)\n",
    "y2_data = 3 * x1_data\n",
    "\n",
    "fig = plt.figure()\n",
    "ax1 = fig.add_subplot()\n",
    "\n",
    "# new axes object that share the x scale\n",
    "ax2 = ax1.twinx()\n",
    "\n",
    "ax1.set_yscale(\"log\")\n",
    "ax1.set_xlabel(\"independent variable\")\n",
    "ax1.set_ylabel(\"log scale\", color=\"red\")\n",
    "ax1.tick_params(axis=\"y\", colors=\"red\")\n",
    "line1 = ax1.plot(x1_data, y1_data, c=\"red\", ls=\"-.\", label=\"$y = x^2 e^x$\")\n",
    "\n",
    "ax2.set_ylabel(\"linear scale\", color=\"blue\")\n",
    "ax2.tick_params(axis=\"y\", colors=\"blue\")\n",
    "line2 = ax2.plot(x1_data, y2_data, color=\"blue\", label=\"$y = 3x$\")\n",
    "\n",
    "ax2.annotate(\"\", xy=(3, 18), xytext=(3.6, 18),\n",
    "    color=\"red\", arrowprops={\"arrowstyle\": \"->\", \"color\": \"red\"}\n",
    ")\n",
    "ax2.annotate(\"\", xy=(5, 12), xytext=(4.4, 12),\n",
    "    color=\"red\", arrowprops={\"arrowstyle\": \"->\", \"color\": \"blue\"}\n",
    ")\n",
    "\n",
    "lines1, labels1 = ax1.get_legend_handles_labels()\n",
    "lines2, labels2 = ax2.get_legend_handles_labels()\n",
    "ax1.legend(lines1 + lines2, labels1 + labels2)\n",
    "\n",
    "plt.show()"
   ]
  },
  {
   "cell_type": "markdown",
   "id": "a2dc3651-073f-48ce-8981-4dd7557f535d",
   "metadata": {},
   "source": [
    "----\n",
    "\n",
    "_**Exercise #4.**_ Plotting probability distribution"
   ]
  },
  {
   "cell_type": "code",
   "execution_count": null,
   "id": "ceca0ca9-f836-48b7-a603-b05c20ef3a55",
   "metadata": {},
   "outputs": [],
   "source": [
    "# load the probability mass function\n",
    "pmf_data = magic.pmf_values.copy()"
   ]
  },
  {
   "cell_type": "code",
   "execution_count": null,
   "id": "e1f6eca4-4eb6-4fee-95c1-027ffc9ab837",
   "metadata": {},
   "outputs": [],
   "source": [
    "# Your code to calculate the cumulative distribution function"
   ]
  },
  {
   "cell_type": "code",
   "execution_count": null,
   "id": "ce23fa67-19d9-4109-8ab9-f2d53ccc8242",
   "metadata": {},
   "outputs": [],
   "source": [
    "# Your code to plot both the pmf and the cdf\n",
    "# Hint: one step at a time, first make sure you can plot just the pmf"
   ]
  },
  {
   "cell_type": "markdown",
   "id": "61e6a21c-636a-4724-84af-eedc46b72d9d",
   "metadata": {},
   "source": [
    "### Insets and multiple axes"
   ]
  },
  {
   "cell_type": "code",
   "execution_count": null,
   "id": "86f5ead3-838a-4c22-b008-3b3d34e5ba66",
   "metadata": {},
   "outputs": [],
   "source": [
    "# Plot with an inset\n",
    "\n",
    "x = np.linspace(-1, 3, 101)\n",
    "y = magic.twopeaks(x)\n",
    "\n",
    "x2 = np.linspace(1.4, 1.6, 101)\n",
    "y2 = magic.twopeaks(x2)\n",
    "\n",
    "fig = plt.figure()\n",
    "\n",
    "ax = fig.add_axes([0.1, 0.15, 0.8, 0.7])\n",
    "ax.plot(x, y)\n",
    "\n",
    "ax2 = fig.add_axes([0.55, 0.5, 0.3, 0.3])\n",
    "ax2.plot(x2, y2)\n",
    "\n",
    "plt.show()"
   ]
  },
  {
   "cell_type": "code",
   "execution_count": null,
   "id": "199c0ba4-fda3-4cc1-960a-0176cf507ace",
   "metadata": {},
   "outputs": [],
   "source": [
    "# multiple plots on the same figure using .subplots()\n",
    "\n",
    "# loading data\n",
    "x_data = magic.random.copy()\n",
    "y00_data = magic.uncorr.copy() \n",
    "y10_data = magic.nonlinear.copy() \n",
    "y01_data = magic.positive.copy()\n",
    "y11_data = magic.negative.copy()\n",
    "y02_data = magic.Positive.copy()\n",
    "y12_data = magic.Negative.copy()\n",
    "\n",
    "# create figure and axes (axes a 2 x 3 array)\n",
    "fig, axes = plt.subplots(\n",
    "    2, 3, figsize=(9, 6),\n",
    "    sharex = True, # share x-axes across all graphs\n",
    "    sharey = True, # share y-axes across all graphs\n",
    ")\n",
    "\n",
    "# NOTE: another useful sharex, sharey setting is:\n",
    "# sharex='col', # share x-axes within columns\n",
    "# sharey='row', # share y-axes within rows\n",
    "\n",
    "# figure level title\n",
    "fig.suptitle(\"Correlations\")\n",
    "\n",
    "# set axes limit for all subplots\n",
    "axes[0,0].set_xlim(-3, 3)\n",
    "axes[0,0].set_ylim(-3, 3)\n",
    "\n",
    "# set axes ticks for all subplots\n",
    "axes[0,0].set_xticks(np.arange(-3, 3.1))\n",
    "axes[0,0].set_yticks(np.arange(-3, 3.1))\n",
    "\n",
    "# 1st row, 1st column\n",
    "axes[0,0].set_title(\"uncorrelated\")\n",
    "axes[0,0].scatter(x_data, y00_data)\n",
    "\n",
    "# 2nd row, 1st column\n",
    "axes[1,0].set_title(\"non-linear\")\n",
    "axes[1,0].scatter(x_data, y10_data)\n",
    "\n",
    "# 1st row, 2nd column\n",
    "axes[0,1].set_title(\"weakly positive\")\n",
    "axes[0,1].scatter(x_data, y01_data)\n",
    "\n",
    "# 2nd row, 2nd column\n",
    "axes[1,1].set_title(\"weakly negative\")\n",
    "axes[1,1].scatter(x_data, y11_data)\n",
    "\n",
    "# 1st row, 3rd column\n",
    "axes[0,2].set_title(\"strongly positive\")\n",
    "axes[0,2].scatter(x_data, y02_data)\n",
    "\n",
    "# 2nd row, 3rd column\n",
    "axes[1,2].set_title(\"strongly negative\")\n",
    "axes[1,2].scatter(x_data, y12_data)\n",
    "\n",
    "plt.show()"
   ]
  },
  {
   "cell_type": "code",
   "execution_count": null,
   "id": "b9aba45a-2a7a-4b93-961c-e52f52ed6997",
   "metadata": {},
   "outputs": [],
   "source": [
    "# multiple plots on the same figure using .Gridspec()\n",
    "\n",
    "#### Defining / loading data to plot\n",
    "\n",
    "x = np.linspace(0, 1, 101)\n",
    "sqrtx = np.sqrt(x)\n",
    "sinx = np.sin(4 * np.pi * x)\n",
    "\n",
    "x_value = np.arange(1, 4)\n",
    "x_label = [\"apple\", \"lemon\", \"orange\"]\n",
    "x_color = [\"red\", \"gold\", \"orange\"]\n",
    "y_count = np.array([5, 7, 4])\n",
    "\n",
    "x_sample = magic.normal_2a.copy()\n",
    "y_sample = magic.normal_2b.copy()\n",
    "\n",
    "#### Plotting\n",
    "\n",
    "# create figure and grid\n",
    "fig = plt.figure(figsize=(9, 9))\n",
    "gs = mpl.gridspec.GridSpec(3, 3)\n",
    "\n",
    "# title for the entire figure\n",
    "fig.suptitle(\"Subplots using GridSpec\", fontsize=18)\n",
    "\n",
    "# create axes and hang them on the grid\n",
    "ax0 = fig.add_subplot(gs[0,0]) # top left, 1-by-1 space\n",
    "ax1 = fig.add_subplot(gs[0,1:]) # top right, 1-by-2 space\n",
    "ax2 = fig.add_subplot(gs[1:,:2]) # bottom left, 2-by-2 space\n",
    "ax3 = fig.add_subplot(gs[1:,2]) # bottom right, 2-by-1 space\n",
    "\n",
    "# top left plot\n",
    "ax0.bar(x_value, y_count, tick_label=x_label,  color=x_color)\n",
    "\n",
    "# top right plot\n",
    "ax1.fill_between(x, 0, sqrtx, color=\"lime\", edgecolor=None, alpha=0.5)\n",
    "ax1.plot(x, sqrtx, c='g')\n",
    "\n",
    "# bottom left plot\n",
    "ax2.set_xlim(-6, 6)\n",
    "ax2.set_ylim(-6, 6)\n",
    "ax2.scatter(x_sample, y_sample, color=\"black\", marker=\"x\")\n",
    "\n",
    "# bottom right plot\n",
    "ax3.grid(which=\"both\")\n",
    "ax3.set_xticks(np.arange(-1, 1.1, 0.5))\n",
    "ax3.set_yticks(np.arange(0, 1, 0.1), minor=True)\n",
    "ax3.plot(sinx, x, c=\"b\")\n",
    "\n",
    "plt.show()"
   ]
  },
  {
   "cell_type": "markdown",
   "id": "5378075b-30c1-486b-8b91-dfd8185408b9",
   "metadata": {},
   "source": [
    "----\n",
    "\n",
    "_**Code writing #5.**_ 2D-sample and histogram on the same figure\n",
    "\n",
    "\n",
    "You are given a set of 2D samples (coordinates specified in `magic.samples_x` and `magic.samples_y`) and their bin counts (counts stored in `magic.x_count` and `magic.y_count`, bin edges stored in `magic.bins`). You would like to, in a single figure, plot the scatter plot of the samples at the bottom left, together with the x and y coordinates histogram on the top and right edges, respectively.\n",
    "\n",
    "An example of the expected output, in the case when the samples are normal (which is **different** from your data!) is provided to you below for reference. (In addition to difference in data, your plot may also differ in details, e.g., you may or may not eliminate the empty figure on top right.)\n",
    "\n",
    "![scatter_plot and x, y coordiante histograms on the same figure](https://github.com/wingho-uw/python-bootcamp-wk3/blob/main/img/scatter_and_histogram.svg?raw=true)"
   ]
  },
  {
   "cell_type": "code",
   "execution_count": null,
   "id": "82f5bb36-841a-45a8-bf7d-c01514ce7c44",
   "metadata": {},
   "outputs": [],
   "source": [
    "# starter code: loading the data\n",
    "\n",
    "samples_x = magic.samples_x.copy()\n",
    "samples_y = magic.samples_y.copy()\n",
    "\n",
    "# note that bins has one more element than counts\n",
    "bins = magic.bins.copy()\n",
    "x_counts = magic.x_counts.copy()\n",
    "y_counts = magic.y_counts.copy()"
   ]
  },
  {
   "cell_type": "code",
   "execution_count": null,
   "id": "8e6da7b0-d5ac-48e1-9735-cf0ec8617a62",
   "metadata": {},
   "outputs": [],
   "source": [
    "# create your figure here"
   ]
  }
 ],
 "metadata": {
  "kernelspec": {
   "display_name": "Python [conda env:main]",
   "language": "python",
   "name": "conda-env-main-py"
  },
  "language_info": {
   "codemirror_mode": {
    "name": "ipython",
    "version": 3
   },
   "file_extension": ".py",
   "mimetype": "text/x-python",
   "name": "python",
   "nbconvert_exporter": "python",
   "pygments_lexer": "ipython3",
   "version": "3.12.8"
  }
 },
 "nbformat": 4,
 "nbformat_minor": 5
}
